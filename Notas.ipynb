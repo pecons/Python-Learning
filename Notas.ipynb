{
 "cells": [
  {
   "cell_type": "markdown",
   "metadata": {},
   "source": [
    "# NOTAS PYTHON(v3) LEARNING\n",
    "\n",
    "en este notebook se documentarán/subiran prácticas/comandos/librerias que se aprendan de SoloLearn y/o documentación de internet."
   ]
  },
  {
   "cell_type": "markdown",
   "metadata": {},
   "source": [
    "#### Las listas se pueden crear, ya sea con el método list(), o bien creando un arreglo []"
   ]
  },
  {
   "cell_type": "code",
   "execution_count": 10,
   "metadata": {},
   "outputs": [
    {
     "name": "stdout",
     "output_type": "stream",
     "text": [
      "[1, 2, 3, 4, 5, 'a', 'b', 'c'] <class 'list'>\n",
      "[1, 2, 3, 4, 5, 'a', 'b', 'c'] <class 'list'>\n"
     ]
    }
   ],
   "source": [
    "numeros=list([1,2,3,4,5,\"a\",\"b\",\"c\"])\n",
    "numeros2=[1,2,3,4,5,\"a\",\"b\",\"c\"]\n",
    "print(numeros,type(numeros))\n",
    "print(numeros2,type(numeros2))\n",
    "\n",
    "#sus métodos son los siguientes\n",
    "#numeros.append\n",
    "# numeros.clear\n",
    "# numeros.copy\n",
    "# numeros.count\n",
    "# numeros.extend\n",
    "# numeros.index\n",
    "# numeros.insert\n",
    "# numeros.pop\n",
    "# numeros.remove\n",
    "# numeros.reverse"
   ]
  },
  {
   "cell_type": "code",
   "execution_count": 29,
   "metadata": {},
   "outputs": [
    {
     "name": "stdout",
     "output_type": "stream",
     "text": [
      "0\n",
      "1\n",
      "2\n",
      "---------------\n",
      "range(0, 3)\n"
     ]
    }
   ],
   "source": [
    "for i in range(3):\n",
    "    print(i)\n",
    "print(\"---------------\")\n",
    "print(range(3))"
   ]
  },
  {
   "cell_type": "code",
   "execution_count": 34,
   "metadata": {},
   "outputs": [
    {
     "name": "stdout",
     "output_type": "stream",
     "text": [
      "False\n",
      "True\n",
      "<class 'range'> <class 'list'>\n"
     ]
    }
   ],
   "source": [
    "print([range(3)]==list(range(3)))\n",
    "# But\n",
    "print(type([range(3)])==type(list(range(3))))\n",
    "z=range(3)\n",
    "x=[range(3)]\n",
    "print(type(z),type(x))"
   ]
  },
  {
   "cell_type": "markdown",
   "metadata": {},
   "source": [
    "--NOTA: en python 3 existe un objeto llamado range, a diferencia de python 2, que range crea un arraylist"
   ]
  },
  {
   "cell_type": "markdown",
   "metadata": {},
   "source": [
    "#### Si se desea que el usuario asigne un valor a una varaible se usa la función input(), en python 3 todo valor ques e ingrese se guardará como un string por defecto"
   ]
  },
  {
   "cell_type": "code",
   "execution_count": 37,
   "metadata": {},
   "outputs": [
    {
     "name": "stdout",
     "output_type": "stream",
     "text": [
      "(1,2)\n",
      "(1,2) <class 'str'>\n",
      "(1, 2) <class 'tuple'>\n"
     ]
    }
   ],
   "source": [
    "z=input() #Escriba (1,2) como primer input, después puede introducir cualquier otro input para confirmar el type.\n",
    "x=(1,2)\n",
    "print(z,type(z))\n",
    "print(x,type(x))"
   ]
  },
  {
   "cell_type": "code",
   "execution_count": null,
   "metadata": {},
   "outputs": [],
   "source": []
  }
 ],
 "metadata": {
  "kernelspec": {
   "display_name": "Python 3",
   "language": "python",
   "name": "python3"
  },
  "language_info": {
   "codemirror_mode": {
    "name": "ipython",
    "version": 3
   },
   "file_extension": ".py",
   "mimetype": "text/x-python",
   "name": "python",
   "nbconvert_exporter": "python",
   "pygments_lexer": "ipython3",
   "version": "3.6.5"
  }
 },
 "nbformat": 4,
 "nbformat_minor": 2
}
