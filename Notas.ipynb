{
 "cells": [
  {
   "cell_type": "markdown",
   "metadata": {},
   "source": [
    "# NOTAS PYTHON(v3) LEARNING\n",
    "\n",
    "en este notebook se documentarán/subiran prácticas/comandos/librerias que se aprendan de SoloLearn y/o documentación de internet."
   ]
  },
  {
   "cell_type": "markdown",
   "metadata": {},
   "source": [
    "#### Las listas se pueden crear, ya sea con el método list(), o bien creando un arreglo []"
   ]
  },
  {
   "cell_type": "code",
   "execution_count": 10,
   "metadata": {},
   "outputs": [
    {
     "name": "stdout",
     "output_type": "stream",
     "text": [
      "[1, 2, 3, 4, 5, 'a', 'b', 'c'] <class 'list'>\n",
      "[1, 2, 3, 4, 5, 'a', 'b', 'c'] <class 'list'>\n"
     ]
    }
   ],
   "source": [
    "numeros=list([1,2,3,4,5,\"a\",\"b\",\"c\"])\n",
    "numeros2=[1,2,3,4,5,\"a\",\"b\",\"c\"]\n",
    "print(numeros,type(numeros))\n",
    "print(numeros2,type(numeros2))\n",
    "\n",
    "#sus métodos son los siguientes\n",
    "#numeros.append\n",
    "# numeros.clear\n",
    "# numeros.copy\n",
    "# numeros.count\n",
    "# numeros.extend\n",
    "# numeros.index\n",
    "# numeros.insert\n",
    "# numeros.pop\n",
    "# numeros.remove\n",
    "# numeros.reverse"
   ]
  },
  {
   "cell_type": "code",
   "execution_count": 29,
   "metadata": {},
   "outputs": [
    {
     "name": "stdout",
     "output_type": "stream",
     "text": [
      "0\n",
      "1\n",
      "2\n",
      "---------------\n",
      "range(0, 3)\n"
     ]
    }
   ],
   "source": [
    "for i in range(3):\n",
    "    print(i)\n",
    "print(\"---------------\")\n",
    "print(range(3))"
   ]
  },
  {
   "cell_type": "code",
   "execution_count": 34,
   "metadata": {},
   "outputs": [
    {
     "name": "stdout",
     "output_type": "stream",
     "text": [
      "False\n",
      "True\n",
      "<class 'range'> <class 'list'>\n"
     ]
    }
   ],
   "source": [
    "print([range(3)]==list(range(3)))\n",
    "# But\n",
    "print(type([range(3)])==type(list(range(3))))\n",
    "z=range(3)\n",
    "x=[range(3)]\n",
    "print(type(z),type(x))"
   ]
  },
  {
   "cell_type": "markdown",
   "metadata": {},
   "source": [
    "--NOTA: en python 3 existe un objeto llamado range, a diferencia de python 2, que range crea un arraylist"
   ]
  },
  {
   "cell_type": "markdown",
   "metadata": {},
   "source": [
    "#### Si se desea que el usuario asigne un valor a una varaible se usa la función input(), en python 3 todo valor ques e ingrese se guardará como un string por defecto"
   ]
  },
  {
   "cell_type": "code",
   "execution_count": 37,
   "metadata": {},
   "outputs": [
    {
     "name": "stdout",
     "output_type": "stream",
     "text": [
      "(1,2)\n",
      "(1,2) <class 'str'>\n",
      "(1, 2) <class 'tuple'>\n"
     ]
    }
   ],
   "source": [
    "z=input() #Escriba (1,2) como primer input, después puede introducir cualquier otro input para confirmar el type.\n",
    "x=(1,2)\n",
    "print(z,type(z))\n",
    "print(x,type(x))"
   ]
  },
  {
   "cell_type": "markdown",
   "metadata": {},
   "source": [
    "#### Toda función se crea con \"def\", el uso de funciones tiene el fin de facilitar el mantenimiento de código y evitar el copiar lo mismo en diferentes líneas."
   ]
  },
  {
   "cell_type": "code",
   "execution_count": 1,
   "metadata": {},
   "outputs": [
    {
     "name": "stdout",
     "output_type": "stream",
     "text": [
      "hola Mundo!\n"
     ]
    }
   ],
   "source": [
    "def funcion1():\n",
    "    print(\"hola Mundo!\")\n",
    "    \n",
    "\n",
    "funcion1()"
   ]
  },
  {
   "cell_type": "markdown",
   "metadata": {},
   "source": [
    "hay 2 cosas a tener en cuenta a la hora de crear funciones, el nombre y sus parámetros, los parámetros son todas esas entradas, que se colocan dentro del paréntesis y que se podrán usar sólamente dentro de la función, a menos de que hayan sido definidas afuera de estas."
   ]
  },
  {
   "cell_type": "code",
   "execution_count": 5,
   "metadata": {},
   "outputs": [
    {
     "name": "stdout",
     "output_type": "stream",
     "text": [
      "1\n",
      "2\n",
      "3\n",
      "4\n",
      "5\n",
      "6\n"
     ]
    },
    {
     "ename": "NameError",
     "evalue": "name 'x' is not defined",
     "output_type": "error",
     "traceback": [
      "\u001b[1;31m---------------------------------------------------------------------------\u001b[0m",
      "\u001b[1;31mNameError\u001b[0m                                 Traceback (most recent call last)",
      "\u001b[1;32m<ipython-input-5-abcfa7a7e45a>\u001b[0m in \u001b[0;36m<module>\u001b[1;34m()\u001b[0m\n\u001b[0;32m      6\u001b[0m \u001b[1;33m\u001b[0m\u001b[0m\n\u001b[0;32m      7\u001b[0m \u001b[0mfuncion2\u001b[0m\u001b[1;33m(\u001b[0m\u001b[1;36m1\u001b[0m\u001b[1;33m)\u001b[0m\u001b[1;33m\u001b[0m\u001b[0m\n\u001b[1;32m----> 8\u001b[1;33m \u001b[0mprint\u001b[0m\u001b[1;33m(\u001b[0m\u001b[0mx\u001b[0m\u001b[1;33m)\u001b[0m\u001b[1;33m\u001b[0m\u001b[0m\n\u001b[0m",
      "\u001b[1;31mNameError\u001b[0m: name 'x' is not defined"
     ]
    }
   ],
   "source": [
    "def funcion2(x):\n",
    "    for _ in range(5):\n",
    "        print(x)\n",
    "        x+=1\n",
    "    print(x)\n",
    "\n",
    "funcion2(1)\n",
    "print(x)"
   ]
  },
  {
   "cell_type": "markdown",
   "metadata": {},
   "source": [
    "#### Como en la mayoría de ocasiones necesitarás compartir el código que hagas o incluso venderlo, necesitarás una forma de explicar qué has hecho o que realiza cada linea, por lo que existe la documentación o comentarios, los cuales pueden ser colocados con # o \"\"\" "
   ]
  },
  {
   "cell_type": "code",
   "execution_count": 7,
   "metadata": {},
   "outputs": [
    {
     "name": "stdout",
     "output_type": "stream",
     "text": [
      "Esto si será impreso\n"
     ]
    }
   ],
   "source": [
    "\"\"\"\n",
    "Esto es un doctring, por lo que no se imprimirá en la pantalla\n",
    "\"\"\"\n",
    "print(\"Esto si será impreso\")\n",
    "#Este comentario tampoco se imprimirá"
   ]
  },
  {
   "cell_type": "markdown",
   "metadata": {},
   "source": [
    "#### Tanto las variables como funciones pueden ser instanciadas por otras variables, y pueden ser llamadas por otras funciones como parametros."
   ]
  },
  {
   "cell_type": "code",
   "execution_count": 9,
   "metadata": {},
   "outputs": [
    {
     "name": "stdout",
     "output_type": "stream",
     "text": [
      "28\n"
     ]
    }
   ],
   "source": [
    "def multiply(x, y):\n",
    "   return x * y\n",
    "\n",
    "a = 4\n",
    "b = 7\n",
    "operation = multiply #se instancia una función a otra variable.\n",
    "print(operation(a, b))"
   ]
  },
  {
   "cell_type": "code",
   "execution_count": 10,
   "metadata": {},
   "outputs": [
    {
     "name": "stdout",
     "output_type": "stream",
     "text": [
      "30\n"
     ]
    }
   ],
   "source": [
    "def add(x, y):\n",
    "  return x + y\n",
    "\n",
    "def do_twice(func, x, y):\n",
    "  return func(func(x, y), func(x, y))\n",
    "\n",
    "a = 5\n",
    "b = 10\n",
    "\n",
    "print(do_twice(add, a, b))"
   ]
  },
  {
   "cell_type": "code",
   "execution_count": null,
   "metadata": {},
   "outputs": [],
   "source": []
  }
 ],
 "metadata": {
  "kernelspec": {
   "display_name": "Python 3",
   "language": "python",
   "name": "python3"
  },
  "language_info": {
   "codemirror_mode": {
    "name": "ipython",
    "version": 3
   },
   "file_extension": ".py",
   "mimetype": "text/x-python",
   "name": "python",
   "nbconvert_exporter": "python",
   "pygments_lexer": "ipython3",
   "version": "3.6.5"
  }
 },
 "nbformat": 4,
 "nbformat_minor": 2
}
