{
 "cells": [
  {
   "cell_type": "markdown",
   "metadata": {},
   "source": [
    "## EXERCISES:"
   ]
  },
  {
   "cell_type": "markdown",
   "metadata": {},
   "source": [
    "Create a Calculator:\n",
    "The code above is the starting point for our program. It accepts user input, and compares it to the options in the if/elif statements.\n",
    "The break statement is used to stop the while loop, in case the user inputs \"quit\"."
   ]
  },
  {
   "cell_type": "code",
   "execution_count": 17,
   "metadata": {},
   "outputs": [],
   "source": [
    "def calculator():\n",
    "    while True:\n",
    "        print(\"Options:\")\n",
    "        print(\"Enter 'add' to add two numbers\")\n",
    "        print(\"Enter 'subtract' to subtract two numbers\")\n",
    "        print(\"Enter 'multiply' to multiply two numbers\")\n",
    "        print(\"Enter 'divide' to divide two numbers\")\n",
    "        print(\"Enter 'quit' to end the program\")\n",
    "        user_input = input(\": \")\n",
    "        if user_input == \"quit\":\n",
    "            break\n",
    "        elif user_input == \"add\":\n",
    "            #do something\n",
    "            print(\"suma\")\n",
    "        elif user_input == \"subtract\":\n",
    "            #do something\n",
    "            print(\"resta\")\n",
    "        elif user_input == \"multiply\":\n",
    "            #do something\n",
    "            print(\"multiplicación\")\n",
    "        elif user_input == \"divide\":\n",
    "            #do something\n",
    "            print(\"división\")\n",
    "        else:\n",
    "            print(\"Unknown Input\")\n"
   ]
  },
  {
   "cell_type": "code",
   "execution_count": 18,
   "metadata": {},
   "outputs": [
    {
     "name": "stdout",
     "output_type": "stream",
     "text": [
      "Options:\n",
      "Enter 'add' to add two numbers\n",
      "Enter 'subtract' to subtract two numbers\n",
      "Enter 'multiply' to multiply two numbers\n",
      "Enter 'divide' to divide two numbers\n",
      "Enter 'quit' to end the program\n",
      ": add\n",
      "suma\n",
      "Options:\n",
      "Enter 'add' to add two numbers\n",
      "Enter 'subtract' to subtract two numbers\n",
      "Enter 'multiply' to multiply two numbers\n",
      "Enter 'divide' to divide two numbers\n",
      "Enter 'quit' to end the program\n",
      ": quit\n"
     ]
    }
   ],
   "source": [
    "calculator()"
   ]
  },
  {
   "cell_type": "code",
   "execution_count": null,
   "metadata": {},
   "outputs": [],
   "source": []
  }
 ],
 "metadata": {
  "kernelspec": {
   "display_name": "Python 3",
   "language": "python",
   "name": "python3"
  },
  "language_info": {
   "codemirror_mode": {
    "name": "ipython",
    "version": 3
   },
   "file_extension": ".py",
   "mimetype": "text/x-python",
   "name": "python",
   "nbconvert_exporter": "python",
   "pygments_lexer": "ipython3",
   "version": "3.6.5"
  }
 },
 "nbformat": 4,
 "nbformat_minor": 2
}
